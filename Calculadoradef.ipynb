{
  "nbformat": 4,
  "nbformat_minor": 0,
  "metadata": {
    "colab": {
      "name": "Calculadoradef",
      "provenance": []
    },
    "kernelspec": {
      "name": "python3",
      "display_name": "Python 3"
    },
    "language_info": {
      "name": "python"
    }
  },
  "cells": [
    {
      "cell_type": "code",
      "source": [
        "#criando funções para cada operação matemática\n",
        "def soma(a,b):\n",
        "  return a+b\n",
        "def subtracao(a,b):\n",
        "  return a-b\n",
        "def multiplicacao(a,b):\n",
        "  return a*b\n",
        "def divisao(a,b):\n",
        "  return a/b\n",
        "\n",
        "#variável para continuação do while\n",
        "continuar = 'S'\n",
        "\n",
        "#estrutura de repetição se mantendo enquanto continuar sendo digitada a letra 'S'\n",
        "#código imprimindo as condições da operaçãoes assim dando valor a variável op\n",
        "#as variáveis a e b recebem os números que serão utilizados nas operações\n",
        "while continuar == 'S':\n",
        "  print('=-'*10,'Calculadora','-='*10)\n",
        "  print('Selecione o número da opração desejada: \\n 1 - Soma \\n 2 - Subtração \\n 3 - Multiplicação \\n 4 - Divisão')\n",
        "  op = int(input('Digite sua opção (1/2/3/4): '))\n",
        "  print('\\n')\n",
        "  a = int(input('Digite o primeiro Número: '))\n",
        "  b = int(input('Digite o segundo Número: '))\n",
        "\n",
        "  print('=-'*30)\n",
        "  print('\\n')\n",
        "\n",
        "#estruturas condicionais para verificar a variável op, assim identificando qual operação está sendo chamada\n",
        "#ao fim do código a variável continuar pode ser substituida, concluindo o código ou reiniciando as operações\n",
        "  if op == 1:\n",
        "    print(f'A soma entre {a} e {b} é igual a {soma(a,b)} \\n{a} + {b} = {soma(a,b)}')\n",
        "  elif op == 2:\n",
        "    print(f'A subtração entre {a} e {b} é igual a {subtracao(a,b)} \\n{a} - {b} = {subtracao(a,b)}')\n",
        "  elif op == 3:\n",
        "    print(f'A multiplicação entre {a} e {b} é igual a {multiplicacao(a,b)} \\n{a} x {b} = {multiplicacao(a,b)}')  \n",
        "  elif op == 4:\n",
        "    print(f'A divisão entre {a} e {b} é igual a {divisao(a,b)} \\n{a} / {b} = {divisao(a,b)}')  \n",
        "  else:\n",
        "    print('>>>Opção inválida.<<<\\nReinicie a calculadora!')\n",
        "  print('\\n')\n",
        "  continuar = str(input('Gostaria de continuar? [S/N] ')).upper().strip()\n",
        "print('FIM')"
      ],
      "metadata": {
        "id": "ihqkBkGykc-r",
        "colab": {
          "base_uri": "https://localhost:8080/"
        },
        "outputId": "ad6b0472-a722-4b0b-f074-6f4508892ac8"
      },
      "execution_count": 2,
      "outputs": [
        {
          "output_type": "stream",
          "name": "stdout",
          "text": [
            "=-=-=-=-=-=-=-=-=-=- Calculadora -=-=-=-=-=-=-=-=-=-=\n",
            "Selecione o número da opração desejada: \n",
            " 1 - Soma \n",
            " 2 - Subtração \n",
            " 3 - Multiplicação \n",
            " 4 - Divisão\n",
            "Digite sua opção (1/2/3/4): 3\n",
            "\n",
            "\n",
            "Digite o primeiro Número: 5\n",
            "Digite o segundo Número: 7\n",
            "=-=-=-=-=-=-=-=-=-=-=-=-=-=-=-=-=-=-=-=-=-=-=-=-=-=-=-=-=-=-\n",
            "\n",
            "\n",
            "A multiplicação entre 5 e 7 é igual a 35 \n",
            "5 x 7 = 35\n",
            "\n",
            "\n",
            "Gostaria de continuar? [S/N] S\n",
            "=-=-=-=-=-=-=-=-=-=- Calculadora -=-=-=-=-=-=-=-=-=-=\n",
            "Selecione o número da opração desejada: \n",
            " 1 - Soma \n",
            " 2 - Subtração \n",
            " 3 - Multiplicação \n",
            " 4 - Divisão\n",
            "Digite sua opção (1/2/3/4): 4\n",
            "\n",
            "\n",
            "Digite o primeiro Número: 9\n",
            "Digite o segundo Número: 8\n",
            "=-=-=-=-=-=-=-=-=-=-=-=-=-=-=-=-=-=-=-=-=-=-=-=-=-=-=-=-=-=-\n",
            "\n",
            "\n",
            "A divisão entre 9 e 8 é igual a 1.125 \n",
            "9 / 8 = 1.125\n",
            "\n",
            "\n",
            "Gostaria de continuar? [S/N] n\n",
            "FIM\n"
          ]
        }
      ]
    },
    {
      "cell_type": "code",
      "source": [
        ""
      ],
      "metadata": {
        "id": "fd1-ygIxiiNW"
      },
      "execution_count": null,
      "outputs": []
    }
  ]
}